{
 "cells": [
  {
   "cell_type": "code",
   "execution_count": 1,
   "metadata": {},
   "outputs": [],
   "source": [
    "\"\"\"Compute, for each calendar day, the daily mean temperature, averaged over the period 1950-2020\"\"\"\n",
    "import numpy as np\n",
    "import numpy.ma as ma\n",
    "import netCDF4 as nc\n",
    "import csv\n",
    "from datetime import datetime\n",
    "from tqdm import tqdm"
   ]
  },
  {
   "cell_type": "code",
   "execution_count": 2,
   "metadata": {},
   "outputs": [
    {
     "name": "stdout",
     "output_type": "stream",
     "text": [
      "the_variable : tx\n",
      "nc_file_in D:/Ubuntu/PFE/Data/E-OBS/0.1deg/tx_ens_mean_0.1deg_reg_v23.1e.nc\n"
     ]
    }
   ],
   "source": [
    "choice = 'max' #'meang','max','min'\n",
    "the_variable = 't'+choice[-1]\n",
    "\n",
    "print('the_variable :',the_variable)\n",
    "\n",
    "#nc_file_in=\"/data/tmandonnet/E-OBS/0.1deg/tg_ens_mean_0.1deg_reg_v23.1e.nc\" #path to the input netCDF file\n",
    "#nc_file_in=\"/home/theom/Bureau/Ubuntu_SSD/PFE/Data/E-OBS/0.1deg/tg_ens_mean_0.1deg_reg_v23.1e.nc\"\n",
    "nc_file_in=\"D:/Ubuntu/PFE/Data/E-OBS/0.1deg/\"+the_variable+\"_ens_mean_0.1deg_reg_v23.1e.nc\" # path to E-OBS data netCDF file\n",
    "\n",
    "print('nc_file_in',nc_file_in)\n",
    "f=nc.Dataset(nc_file_in, mode='r')\n",
    "lat_in=f.variables['latitude']\n",
    "lon_in=f.variables['longitude']\n",
    "time_in=f.variables['time']"
   ]
  },
  {
   "cell_type": "code",
   "execution_count": 3,
   "metadata": {},
   "outputs": [
    {
     "name": "stdout",
     "output_type": "stream",
     "text": [
      "['Year', 'Nb_days', 'Idx_start', 'Idx_end', 'Idx_start', 'Idx_end']\n",
      "['Day_of_the_year', 'nb_day', 'nb_day_pyth', 'Day_of_the_year_bis', 'nb_day_bis', 'nb_day_pyth']\n"
     ]
    }
   ],
   "source": [
    "#import a csv table containing the index of each 1st january and 31st December\n",
    "csv_bis_year=csv.reader(open(\"D:/Ubuntu/PFE/Code/E-OBS_use/Moyennes_mensuelles/Dates_converter_Feuille_1.csv\",\"r\"))\n",
    "bis_year_list=list(csv_bis_year) #store the list of the years and the number of days they contain, along with the beginning time index of each year (from 01/01/1950)\n",
    "print(bis_year_list[1])\n",
    "nb_day_in_year=[int(ligne[1]) for ligne in bis_year_list[2:]] #365 or 366, depending on whether the year is bisextile or not\n",
    "idx_start_year=[int(ligne[4]) for ligne in bis_year_list[2:]] #index of 1st january for each year\n",
    "idx_end_year=[int(ligne[5]) for ligne in bis_year_list[2:]] #index of 31st december for each year\n",
    "\n",
    "\n",
    "csv_day_idx=csv.reader(open(\"D:/Ubuntu/PFE/Code/E-OBS_use/Moyennes_mensuelles/Dates_converter_Feuille_2.csv\",\"r\"))\n",
    "day_idx_list=list(csv_day_idx) #store the list of the index of each day of a bisextile and non-bisextile years (0 to 364 or 0 to 365)\n",
    "print(day_idx_list[0])\n",
    "idx_day_of_year_bis=[int(ligne[5]) for ligne in day_idx_list[2:]] #index of each day of a bisextile year from 0 to 365\n",
    "day_of_year_bis=[ligne[3] for ligne in day_idx_list[2:]] #dates from 1st january to 31st december for a bisextile year"
   ]
  },
  {
   "cell_type": "code",
   "execution_count": 4,
   "metadata": {},
   "outputs": [],
   "source": [
    "nc_file_mask=\"D:/Ubuntu/PFE/Data/E-OBS/Mask/Mask_Europe_E-OBS_0.1deg.nc\" #file to load the corrected mask for all Europe\n",
    "f_mask=nc.Dataset(nc_file_mask,mode='r')\n",
    "Mask_0 = f_mask.variables['mask_all'][:] #corrected mask"
   ]
  },
  {
   "cell_type": "code",
   "execution_count": 12,
   "metadata": {},
   "outputs": [
    {
     "name": "stdout",
     "output_type": "stream",
     "text": [
      "nc_file_in D:/Ubuntu/PFE/Data/E-OBS/0.1deg/tx_ens_mean_0.1deg_reg_v23.1e.nc\n",
      "day of the year 59\n",
      "(465, 705)\n"
     ]
    },
    {
     "ename": "RuntimeError",
     "evalue": "NetCDF: Not a valid ID",
     "output_type": "error",
     "traceback": [
      "\u001b[1;31m---------------------------------------------------------------------------\u001b[0m",
      "\u001b[1;31mRuntimeError\u001b[0m                              Traceback (most recent call last)",
      "\u001b[1;32m<ipython-input-12-018f86a3d81d>\u001b[0m in \u001b[0;36m<module>\u001b[1;34m\u001b[0m\n\u001b[0;32m     51\u001b[0m \u001b[1;33m\u001b[0m\u001b[0m\n\u001b[0;32m     52\u001b[0m \u001b[0mf\u001b[0m\u001b[1;33m.\u001b[0m\u001b[0mclose\u001b[0m\u001b[1;33m(\u001b[0m\u001b[1;33m)\u001b[0m\u001b[1;33m\u001b[0m\u001b[1;33m\u001b[0m\u001b[0m\n\u001b[1;32m---> 53\u001b[1;33m \u001b[0mf_mask\u001b[0m\u001b[1;33m.\u001b[0m\u001b[0mclose\u001b[0m\u001b[1;33m(\u001b[0m\u001b[1;33m)\u001b[0m\u001b[1;33m\u001b[0m\u001b[1;33m\u001b[0m\u001b[0m\n\u001b[0m",
      "\u001b[1;32mnetCDF4\\_netCDF4.pyx\u001b[0m in \u001b[0;36mnetCDF4._netCDF4.Dataset.close\u001b[1;34m()\u001b[0m\n",
      "\u001b[1;32mnetCDF4\\_netCDF4.pyx\u001b[0m in \u001b[0;36mnetCDF4._netCDF4.Dataset._close\u001b[1;34m()\u001b[0m\n",
      "\u001b[1;32mnetCDF4\\_netCDF4.pyx\u001b[0m in \u001b[0;36mnetCDF4._netCDF4._ensure_nc_success\u001b[1;34m()\u001b[0m\n",
      "\u001b[1;31mRuntimeError\u001b[0m: NetCDF: Not a valid ID"
     ]
    }
   ],
   "source": [
    "nc_file_in=\"D:/Ubuntu/PFE/Data/E-OBS/0.1deg/\"+the_variable+\"_ens_mean_0.1deg_reg_v23.1e.nc\" # path to E-OBS data netCDF file\n",
    "\n",
    "print('nc_file_in',nc_file_in)\n",
    "f=nc.Dataset(nc_file_in, mode='r')\n",
    "lat_in=f.variables['latitude']\n",
    "lon_in=f.variables['longitude']\n",
    "time_in=f.variables['time']\n",
    "\n",
    "temp=ma.array(np.zeros((366,465,705)),mask=[Mask_0]*366)\n",
    "\n",
    "for day_of_the_year in [59]:#range(366): #Compute average daily temperature for each calendar day of the year, over the 1950-2020 period -> 366 days\n",
    "\n",
    "\tprint(\"day of the year\", day_of_the_year)\n",
    "\tbis_years=[idx for idx,e in enumerate(nb_day_in_year) if e==366] #indices of bisextile years\n",
    "\tnot_bis_years=[idx for idx,e in enumerate(nb_day_in_year) if e==365] #indices of non-bisextile years\n",
    "\n",
    "\tif day_of_the_year==59: #29th February\n",
    "\t\tstack_temp=ma.array(np.zeros((len(bis_years),465,705)),mask=[Mask_0]*len(bis_years),fill_value=np.nan)\n",
    "\t\tidx=0\n",
    "\t\tfor i in bis_years:\n",
    "\t\t\t#print(i)\n",
    "\t\t\tstack_temp[idx,:,:]=f.variables[the_variable][idx_start_year[i]+day_of_the_year,:,:]\n",
    "\t\t\tidx+=1\n",
    "\t\t#stack_temp=stack_temp.filled()\n",
    "\t\ttemp[day_of_the_year,:,:]=np.nanmean(stack_temp,axis=0)\n",
    "\t\tprint(np.shape(np.nanmean(stack_temp,axis=0)))\n",
    "\t\t#print(np.nanmean(stack_temp.filled(),axis=0))\n",
    "\telif day_of_the_year<59:#before 29th Feb, no issues\n",
    "\t\tstack_temp=ma.array(np.zeros((71,465,705)),mask=[Mask_0]*71,fill_value=np.nan)\n",
    "\t\tidx=0\n",
    "\t\tfor i in range(71):\n",
    "\t\t\t#print(i)\n",
    "\t\t\tstack_temp[idx,:,:]=f.variables[the_variable][idx_start_year[i]+day_of_the_year,:,:]\n",
    "\t\t\tidx+=1\n",
    "\t\tstack_temp=stack_temp.filled()\n",
    "\t\ttemp[day_of_the_year,:,:]=np.nanmean(stack_temp,axis=0)\n",
    "\n",
    "\telse: #After 29th Feb, have to distinguish bisextile and non-bisextile years\n",
    "\t\tstack_temp=ma.array(np.zeros((71,465,705)),mask=False,fill_value=np.nan)\n",
    "\t\tcount_valid_items=ma.array(71*np.ones((465,705)),mask=Mask_0)\n",
    "\t\tidx=0\n",
    "\t\tfor i in not_bis_years:\n",
    "\t\t\t#print(i)\n",
    "\t\t\tstack_temp[idx,:,:]=f.variables[the_variable][idx_start_year[i]+day_of_the_year-1,:,:]\n",
    "\t\t\tidx+=1\n",
    "\t\tfor i in bis_years:\n",
    "\t\t\tstack_temp[idx,:,:]=f.variables[the_variable][idx_start_year[i]+day_of_the_year,:,:]\n",
    "\t\t\tidx+=1\n",
    "\t\tstack_temp=stack_temp.filled()\n",
    "\t\ttemp[day_of_the_year,:,:]=np.nanmean(stack_temp, axis=0)\n",
    "\n",
    "f.close()\n",
    "f_mask.close()"
   ]
  }
 ],
 "metadata": {
  "interpreter": {
   "hash": "ca18d50e00aca01f2a72c8762bacc84c94840c7c1e3eba099b46806d5ae95abb"
  },
  "kernelspec": {
   "display_name": "Python 3.8.5 64-bit ('base': conda)",
   "language": "python",
   "name": "python3"
  },
  "language_info": {
   "codemirror_mode": {
    "name": "ipython",
    "version": 3
   },
   "file_extension": ".py",
   "mimetype": "text/x-python",
   "name": "python",
   "nbconvert_exporter": "python",
   "pygments_lexer": "ipython3",
   "version": "3.8.5"
  },
  "orig_nbformat": 4
 },
 "nbformat": 4,
 "nbformat_minor": 2
}
